{
 "cells": [
  {
   "cell_type": "markdown",
   "id": "b4e01dd2",
   "metadata": {},
   "source": [
    "### Annotation"
   ]
  },
  {
   "cell_type": "markdown",
   "id": "bf61a19a",
   "metadata": {},
   "source": [
    "Annotation simply means the process of adding explanatory notes or comment, like highlighting certain lines of your important chapter or underlining interesting lines of your notebook."
   ]
  },
  {
   "cell_type": "markdown",
   "id": "37abffba",
   "metadata": {},
   "source": [
    "The sequence that play with in bioinformatics, holds various information at different regions. The prediction of the function of gene or a region of chromosome by analyzing raw sequence is called genome annotation.\n",
    "\n",
    "Location of gene is identified\n",
    "Coding regions are identified\n",
    "Start and Stop points are identified\n",
    "Function of gene is identified\n",
    "\n",
    "Annotation is a predictive activities and confirmation of those predictions is done through functional genomics"
   ]
  },
  {
   "cell_type": "markdown",
   "id": "23d83c85",
   "metadata": {},
   "source": [
    "# Prokka\n",
    "Prokka is a software tool to annotate bacterial, archaeal and viral genomes quickly and produce standards-compliant output files in different formats like .gff, .tsv, .faa, etc"
   ]
  },
  {
   "cell_type": "markdown",
   "id": "ce696864",
   "metadata": {},
   "source": [
    "## From their FAQ\n",
    "\n",
    "Where does the name \"Prokka\" come from?\n",
    "\n",
    "Prokka is a contraction of \"prokaryotic annotation\". It's also relatively unique within Google, and also rhymes with a native Australian marsupial called the quokka.\n",
    "\n"
   ]
  },
  {
   "cell_type": "markdown",
   "id": "d088a900",
   "metadata": {},
   "source": [
    "Please refer: \n",
    "\n",
    "https://academic.oup.com/bioinformatics/article/30/14/2068/2390517\n",
    "\n",
    "https://github.com/tseemann/prokka"
   ]
  },
  {
   "cell_type": "markdown",
   "id": "040ccf38",
   "metadata": {},
   "source": [
    "Today, we will be following a youtube tutorial by Bioinformatics Coach to get introduced with Prokka.\n",
    "\n",
    "Here is the youtube link which I have followed for annotation of complete sequence of Mycobacterium ulcerans Agy99:\n",
    "\n",
    "https://youtu.be/NYbYxGf-8NM\n"
   ]
  },
  {
   "cell_type": "markdown",
   "id": "9d8aeb61",
   "metadata": {},
   "source": [
    "<iframe width=\"1350\" height=\"480\" src=\"https://www.youtube.com/embed/NYbYxGf-8NM\" title=\"A bioinformatics tutorial on genome annotation of bacterial genomes using PROKKA (updated video)\" frameborder=\"0\" allow=\"accelerometer; autoplay; clipboard-write; encrypted-media; gyroscope; picture-in-picture\" allowfullscreen></iframe>"
   ]
  },
  {
   "cell_type": "markdown",
   "id": "a85d00c7",
   "metadata": {},
   "source": [
    "Let's get started by downloading Fasta sequence from : https://www.ncbi.nlm.nih.gov/nuccore/NC_008611.1"
   ]
  },
  {
   "cell_type": "markdown",
   "id": "baea1a58",
   "metadata": {},
   "source": [
    "I have downloaded the fasta file as sequence.fasta and opened terminal on same directory."
   ]
  },
  {
   "cell_type": "code",
   "execution_count": null,
   "id": "9eb5cf33",
   "metadata": {},
   "outputs": [],
   "source": [
    "prokka --cpus 4 --prefix Agy99 --kingdom Bacteria --locustag Agy99 sequence.fasta"
   ]
  },
  {
   "cell_type": "code",
   "execution_count": 1,
   "id": "76de4754",
   "metadata": {
    "scrolled": false
   },
   "outputs": [
    {
     "name": "stdout",
     "output_type": "stream",
     "text": [
      "\u001b[0m\u001b[01;34mAgy99\u001b[0m  sequence.fasta  Untitled.ipynb\n"
     ]
    }
   ],
   "source": [
    "ls # listing files after running Prokka"
   ]
  },
  {
   "cell_type": "code",
   "execution_count": 3,
   "id": "85a16fb1",
   "metadata": {},
   "outputs": [
    {
     "name": "stdout",
     "output_type": "stream",
     "text": [
      "\u001b[01;34m.\u001b[0m\n",
      "├── \u001b[01;34mAgy99\u001b[0m\n",
      "│   ├── Agy99.err\n",
      "│   ├── Agy99.faa\n",
      "│   ├── Agy99.ffn\n",
      "│   ├── Agy99.fna\n",
      "│   ├── Agy99.fsa\n",
      "│   ├── Agy99.gbk\n",
      "│   ├── Agy99.gff\n",
      "│   ├── Agy99.log\n",
      "│   ├── Agy99.sqn\n",
      "│   ├── Agy99.tbl\n",
      "│   ├── Agy99.tsv\n",
      "│   └── Agy99.txt\n",
      "├── sequence.fasta\n",
      "└── Untitled.ipynb\n",
      "\n",
      "1 directory, 14 files\n"
     ]
    }
   ],
   "source": [
    "tree # # viewing files list in tree form"
   ]
  },
  {
   "cell_type": "markdown",
   "id": "c1dffdc7",
   "metadata": {},
   "source": [
    "### .txt file"
   ]
  },
  {
   "cell_type": "code",
   "execution_count": 14,
   "id": "413ea6ba",
   "metadata": {},
   "outputs": [
    {
     "name": "stdout",
     "output_type": "stream",
     "text": [
      "organism: Genus species strain \n",
      "contigs: 1\n",
      "bases: 5631606\n",
      "CDS: 5471\n",
      "rRNA: 3\n",
      "tRNA: 48\n",
      "tmRNA: 1\n"
     ]
    }
   ],
   "source": [
    "cat Agy99/Agy99.txt  # concatenating Agy99.txt file"
   ]
  },
  {
   "cell_type": "markdown",
   "id": "3898b62c",
   "metadata": {},
   "source": [
    "###### informations like number of contigs, bases, number of genes for coding sequences,rRNA,tRNA,etc is obtained"
   ]
  },
  {
   "cell_type": "markdown",
   "id": "85a57a34",
   "metadata": {},
   "source": [
    "### .faa file"
   ]
  },
  {
   "cell_type": "markdown",
   "id": "e1881040",
   "metadata": {},
   "source": [
    "###### .faa files give predicted sequences of protein"
   ]
  },
  {
   "cell_type": "code",
   "execution_count": 30,
   "id": "81b6b39c",
   "metadata": {},
   "outputs": [
    {
     "name": "stdout",
     "output_type": "stream",
     "text": [
      ">Agy99_00001 Chromosomal replication initiator protein DnaA\n",
      "MWNAVVAELNGEPNTDGDAGTGTTLTSPLTPQQRAWLNLVQPLTIVEGFALLSVPSSFVQ\n",
      "NEIERHLRTPITAALSRRLGQQIQLGVRIAPPPADDDDDSVAAAVEDPGLEASPETSQEV\n",
      "SDEIDDFGENAPKSRQSWPTHFKKRSTDADTSASADGTSLNRRYTFDTFVIGASNRFAHA\n",
      "ATLAIAEAPARAYNPLFIWGESGLGKTHLLHAAGNYAQRLFPGMRVKYVSTEEFTNDFIN\n",
      "SLRDDRKVAFKRSYRDVDVLLVDDIQFIEGKEGIQEEFFHTFNTLHNANKQIVISSDRPP\n",
      "KQLATLEDRLRTRFEWGLITDVQPPELETRIAILRKKAQMERLAVPDDVLELIASSIERN\n",
      "IRELEGALIRVTAFASLNKTPIDKALAEIVLRDLIADADTMQISAATIMAATVEYFDTTV\n",
      "EELRGPGKTRALAQSRQIAMYLCRELTDLSLPKIGQAFGRDHTTVMYAQRKILSEMAERR\n",
      "EVFDHVKELTTRIRQRSKR\n"
     ]
    }
   ],
   "source": [
    "head Agy99/Agy99.faa # getting first 10 lines"
   ]
  },
  {
   "cell_type": "markdown",
   "id": "2f4c0953",
   "metadata": {},
   "source": [
    "#### Narrative: Chromosomal replication initiator protein DnaA is predicted with above sequence"
   ]
  },
  {
   "cell_type": "code",
   "execution_count": 32,
   "id": "331500b0",
   "metadata": {},
   "outputs": [
    {
     "name": "stdout",
     "output_type": "stream",
     "text": [
      "5471\n"
     ]
    }
   ],
   "source": [
    "# counting number of fasta sequences in the file\n",
    "grep '>' Agy99/Agy99.faa | wc -l "
   ]
  },
  {
   "cell_type": "code",
   "execution_count": 9,
   "id": "02b6b50f",
   "metadata": {},
   "outputs": [
    {
     "name": "stdout",
     "output_type": "stream",
     "text": [
      "2516\n"
     ]
    }
   ],
   "source": [
    "# looking for specific names\n",
    "grep 'hypothetical' Agy99/Agy99.faa | wc -l"
   ]
  },
  {
   "cell_type": "markdown",
   "id": "98396c45",
   "metadata": {},
   "source": [
    "#### Narrative: 2516 potential genes were found but while comparing those gene on the database no matches were present.\n",
    "##### Potential genes means Probable gene that are making unknown proteins"
   ]
  },
  {
   "cell_type": "markdown",
   "id": "f8932f3b",
   "metadata": {},
   "source": [
    "### .ffn file"
   ]
  },
  {
   "cell_type": "markdown",
   "id": "57d02f2e",
   "metadata": {},
   "source": [
    "###### .ffn files give predicted sequences of nucleotides"
   ]
  },
  {
   "cell_type": "code",
   "execution_count": 11,
   "id": "8ea78408",
   "metadata": {
    "scrolled": true
   },
   "outputs": [
    {
     "name": "stdout",
     "output_type": "stream",
     "text": [
      "5523\n"
     ]
    }
   ],
   "source": [
    "grep '>' Agy99/Agy99.ffn | wc -l"
   ]
  },
  {
   "cell_type": "markdown",
   "id": "2d4f3b7e",
   "metadata": {},
   "source": [
    "#### Narrative: 5523 sequences are present"
   ]
  },
  {
   "cell_type": "code",
   "execution_count": 34,
   "id": "6f32de9e",
   "metadata": {},
   "outputs": [
    {
     "name": "stdout",
     "output_type": "stream",
     "text": [
      ">Agy99_00001 Chromosomal replication initiator protein DnaA\n",
      "GTGTGGAATGCCGTCGTCGCTGAGCTCAACGGAGAACCCAACACCGATGGTGATGCCGGC\n",
      "ACCGGCACCACTTTGACCAGTCCACTAACCCCCCAGCAAAGAGCTTGGTTGAACCTCGTC\n",
      "CAACCGCTCACCATCGTTGAGGGGTTTGCTCTGCTGTCGGTCCCGAGCAGCTTTGTGCAA\n",
      "AACGAGATCGAACGCCACCTGCGCACCCCGATCACCGCAGCGCTGAGCCGTCGGCTTGGA\n",
      "CAACAGATCCAGCTCGGCGTCCGCATCGCCCCGCCGCCCGCCGACGATGATGACGATTCG\n",
      "GTGGCCGCCGCGGTCGAGGACCCCGGCCTCGAAGCGTCACCAGAAACGTCACAAGAAGTC\n",
      "TCCGACGAGATCGATGACTTTGGCGAAAACGCGCCAAAGTCGCGGCAAAGCTGGCCGACG\n",
      "CACTTCAAGAAGCGCTCAACCGACGCTGATACCAGCGCTAGCGCCGACGGTACCAGCCTC\n",
      "AACCGCCGCTACACGTTCGACACCTTCGTCATCGGAGCCTCCAACCGATTCGCGCACGCG\n"
     ]
    }
   ],
   "source": [
    "head Agy99/Agy99.ffn # getting first 10 lines"
   ]
  },
  {
   "cell_type": "markdown",
   "id": "ca309f1e",
   "metadata": {},
   "source": [
    "### .tsv file"
   ]
  },
  {
   "cell_type": "markdown",
   "id": "1fd43600",
   "metadata": {},
   "source": [
    "###### .tsv files gives the summary in tab separated format"
   ]
  },
  {
   "cell_type": "code",
   "execution_count": 12,
   "id": "fde774f6",
   "metadata": {},
   "outputs": [
    {
     "name": "stdout",
     "output_type": "stream",
     "text": [
      "locus_tag\tftype\tlength_bp\tgene\tEC_number\tCOG\tproduct\n",
      "Agy99_00001\tCDS\t1500\tdnaA\t\tCOG0593\tChromosomal replication initiator protein DnaA\n",
      "Agy99_00002\tCDS\t1209\tdnaN\t\tCOG0592\tBeta sliding clamp\n",
      "Agy99_00003\tCDS\t1080\trecF\t\tCOG1195\tDNA replication and repair protein RecF\n",
      "Agy99_00004\tCDS\t564\t\t\t\thypothetical protein\n",
      "Agy99_00005\tCDS\t2079\tgyrB1\t5.6.2.2\t\tDNA gyrase subunit B\n",
      "Agy99_00006\tCDS\t2520\tgyrA1\t5.6.2.2\t\tDNA gyrase subunit A\n",
      "Agy99_00007\ttRNA\t75\t\t\t\ttRNA-Ile(gat)\n",
      "Agy99_00008\ttRNA\t74\t\t\t\ttRNA-Ala(tgc)\n",
      "Agy99_00009\tCDS\t840\ttam_1\t2.1.1.144\t\tTrans-aconitate 2-methyltransferase\n"
     ]
    }
   ],
   "source": [
    "head Agy99/Agy99.tsv"
   ]
  },
  {
   "cell_type": "code",
   "execution_count": 38,
   "id": "e6936f76",
   "metadata": {},
   "outputs": [
    {
     "name": "stdout",
     "output_type": "stream",
     "text": [
      "locus_tag\tftype\tlength_bp\tgene\tEC_number\tCOG\tproduct\n",
      "Agy99_00001\tCDS\t1500\tdnaA\t\tCOG0593\tChromosomal replication initiator protein DnaA\n"
     ]
    }
   ],
   "source": [
    "head -n 2 Agy99/Agy99.tsv # extracting just column names and first entry"
   ]
  },
  {
   "cell_type": "markdown",
   "id": "fe3112b2",
   "metadata": {},
   "source": [
    "###### It has found a gene that is 1500 base pair long , with Enzyme Commissoin number COG0593"
   ]
  },
  {
   "cell_type": "code",
   "execution_count": null,
   "id": "a3ae1b28",
   "metadata": {},
   "outputs": [],
   "source": []
  },
  {
   "cell_type": "code",
   "execution_count": null,
   "id": "6255962c",
   "metadata": {},
   "outputs": [],
   "source": []
  }
 ],
 "metadata": {
  "kernelspec": {
   "display_name": "Bash",
   "language": "bash",
   "name": "bash"
  },
  "language_info": {
   "codemirror_mode": "shell",
   "file_extension": ".sh",
   "mimetype": "text/x-sh",
   "name": "bash"
  }
 },
 "nbformat": 4,
 "nbformat_minor": 5
}
