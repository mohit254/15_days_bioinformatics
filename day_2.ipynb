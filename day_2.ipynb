{
 "cells": [
  {
   "cell_type": "markdown",
   "id": "9010fed9",
   "metadata": {},
   "source": [
    "### What is GC content?"
   ]
  },
  {
   "cell_type": "markdown",
   "id": "60d4377e",
   "metadata": {},
   "source": [
    "In molecular biology and genetics, GC-content (or guanine-cytosine content) is the percentage of nitrogenous bases in a DNA or RNA molecule that are either guanine (G) or cytosine (C).This measure indicates the proportion of G and C bases out of an implied four total bases, also including adenine and thymine in DNA and adenine and uracil in RNA."
   ]
  },
  {
   "cell_type": "markdown",
   "id": "9617e49f",
   "metadata": {},
   "source": [
    "DNA templates with high GC content (>65%) can affect the efficiency of PCR due to the tendency of these templates to fold into complex secondary structures. This is due to increased hydrogen bonding between guanine and cytosine bases, which can cause the DNA to be resistant to melting."
   ]
  },
  {
   "cell_type": "markdown",
   "id": "6840f08c",
   "metadata": {},
   "source": [
    "In polymerase chain reaction (PCR) experiments, the GC-content of short oligonucleotides known as primers is often used to predict their annealing temperature to the template DNA. A higher GC-content level indicates a relatively higher melting temperature."
   ]
  },
  {
   "cell_type": "markdown",
   "id": "48adb527",
   "metadata": {},
   "source": [
    "#### GC-content is usually expressed as a percentage value, but sometimes as a ratio (called G+C ratio or GC-ratio)."
   ]
  },
  {
   "cell_type": "markdown",
   "id": "30307802",
   "metadata": {},
   "source": [
    "source: https://en.wikipedia.org/wiki/GC-content"
   ]
  },
  {
   "cell_type": "markdown",
   "id": "9f2c9ff1",
   "metadata": {},
   "source": [
    "# finding GC content of DNA sequence"
   ]
  },
  {
   "cell_type": "code",
   "execution_count": 11,
   "id": "da8e5417",
   "metadata": {},
   "outputs": [],
   "source": [
    "sequence1 = 'ATGTACTCATTCGTTTCGGAAGAGACAGGTACGTTAATAGTTAATAGCGTACTTCTTTTTCTTGCTTTCGTGGTATTCTTGCTAGTTACACTAGCCATCCTTACTGCGCTTCGATTGTGTGCGTACTGCTGCAATATTGTTAACGTGAGTCTTGTAAAACCTTCTTTTTACGTTTACTCTCGTGTTAAAAATCTGAATTCTTCTAGAGTTCCTGATCTTCTGGTCTAA'"
   ]
  },
  {
   "cell_type": "markdown",
   "id": "c7cd4869",
   "metadata": {},
   "source": [
    "link to sequence: https://www.ncbi.nlm.nih.gov/nuccore/NC_045512.2?report=fasta&from=26245&to=26472"
   ]
  },
  {
   "cell_type": "markdown",
   "id": "89916d04",
   "metadata": {},
   "source": [
    "### GC Count = ((G+C)/total nucleotide)*100"
   ]
  },
  {
   "cell_type": "code",
   "execution_count": 4,
   "id": "beeadbb2",
   "metadata": {},
   "outputs": [],
   "source": [
    "#finding count of g and c\n",
    "G_count = sequence.count(\"G\")\n",
    "C_count = sequence.count(\"C\")"
   ]
  },
  {
   "cell_type": "code",
   "execution_count": 3,
   "id": "74fe0bde",
   "metadata": {},
   "outputs": [
    {
     "data": {
      "text/plain": [
       "42"
      ]
     },
     "execution_count": 3,
     "metadata": {},
     "output_type": "execute_result"
    }
   ],
   "source": [
    "G_count"
   ]
  },
  {
   "cell_type": "code",
   "execution_count": 5,
   "id": "cfcd2428",
   "metadata": {},
   "outputs": [
    {
     "data": {
      "text/plain": [
       "45"
      ]
     },
     "execution_count": 5,
     "metadata": {},
     "output_type": "execute_result"
    }
   ],
   "source": [
    "C_count"
   ]
  },
  {
   "cell_type": "code",
   "execution_count": 7,
   "id": "6b15d7e1",
   "metadata": {},
   "outputs": [
    {
     "data": {
      "text/plain": [
       "228"
      ]
     },
     "execution_count": 7,
     "metadata": {},
     "output_type": "execute_result"
    }
   ],
   "source": [
    "total = len(sequence)\n",
    "total"
   ]
  },
  {
   "cell_type": "code",
   "execution_count": 8,
   "id": "92cf1868",
   "metadata": {},
   "outputs": [],
   "source": [
    "GC_Count = ((G_count + C_count)/total)*100"
   ]
  },
  {
   "cell_type": "code",
   "execution_count": 9,
   "id": "d4b09297",
   "metadata": {},
   "outputs": [
    {
     "data": {
      "text/plain": [
       "38.15789473684211"
      ]
     },
     "execution_count": 9,
     "metadata": {},
     "output_type": "execute_result"
    }
   ],
   "source": [
    "GC_Count"
   ]
  },
  {
   "cell_type": "code",
   "execution_count": 27,
   "id": "c21312da",
   "metadata": {},
   "outputs": [],
   "source": [
    "#defining a function to find GC_count:\n",
    "\n",
    "def gc_percent(sequence):\n",
    "    g_count = sequence.count(\"G\")\n",
    "    c_count = sequence.count(\"C\")\n",
    "    gc_percent = ((g_count + c_count)/len(sequence))*100\n",
    "    return f\"GC percent of given sequence is {round(gc_percent,2)}%\""
   ]
  },
  {
   "cell_type": "code",
   "execution_count": 28,
   "id": "7e39934e",
   "metadata": {},
   "outputs": [
    {
     "name": "stdout",
     "output_type": "stream",
     "text": [
      "GC percent of given sequence is 38.16%\n"
     ]
    }
   ],
   "source": [
    "print(gc_percent(sequence1))"
   ]
  }
 ],
 "metadata": {
  "kernelspec": {
   "display_name": "Python 3 (ipykernel)",
   "language": "python",
   "name": "python3"
  },
  "language_info": {
   "codemirror_mode": {
    "name": "ipython",
    "version": 3
   },
   "file_extension": ".py",
   "mimetype": "text/x-python",
   "name": "python",
   "nbconvert_exporter": "python",
   "pygments_lexer": "ipython3",
   "version": "3.9.12"
  }
 },
 "nbformat": 4,
 "nbformat_minor": 5
}
