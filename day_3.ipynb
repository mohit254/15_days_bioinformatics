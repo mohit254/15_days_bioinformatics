{
 "cells": [
  {
   "cell_type": "markdown",
   "id": "bced8497",
   "metadata": {},
   "source": [
    "###### This is a part of a self-learning challenege performed by (me)Mohit Poudel, a student of biology, in Nepal. All the informations used are from internet and the used for the sake of learning purpose only."
   ]
  },
  {
   "cell_type": "markdown",
   "id": "9f1479d7",
   "metadata": {},
   "source": [
    "# Multiple Sequence Alignment"
   ]
  },
  {
   "cell_type": "markdown",
   "id": "863085ca",
   "metadata": {},
   "source": [
    "https://upload.wikimedia.org/wikipedia/commons/thumb/7/79/RPLP0_90_ClustalW_aln.gif/575px-RPLP0_90_ClustalW_aln.gif"
   ]
  },
  {
   "cell_type": "markdown",
   "id": "07bb94b8",
   "metadata": {},
   "source": [
    "We know that, organisms have variations in their DNA sequences. The genetic difference is varied among species to species and actually depends upon two or more organisms that we are observing."
   ]
  },
  {
   "cell_type": "markdown",
   "id": "131345e6",
   "metadata": {},
   "source": [
    "Africans have more genetic variation than anyone else on Earth, according to a new study that helps narrow the location where humans first evolved, probably near the South Africa-Namibia border.\n",
    "\n",
    "source: https://www.nbcnews.com/id/wbna30502963"
   ]
  },
  {
   "cell_type": "markdown",
   "id": "b425d144",
   "metadata": {},
   "source": [
    "According to Wikipedia, sequence alignment is a way of arranging the sequences of DNA, RNA, or protein to identify regions of similarity that may be a consequence of functional, structural, or evolutionary relationships between the sequences.For instance, Sequence alignment of protein gives an overview of how unchanged the particular region of protein is during evolutionary process."
   ]
  },
  {
   "cell_type": "markdown",
   "id": "d1bd6703",
   "metadata": {},
   "source": [
    "Multiple sequence alignment (MSA) may refer to the process of sequence alignment of three or more biological sequences which are mostly, assumed to have shared evolutionary relationships.\n",
    "Multiple sequence alignments can be used to visualise conserved sequences inorder to infer sequence homology or to perform phylogenetic analysis."
   ]
  },
  {
   "cell_type": "markdown",
   "id": "12a7c688",
   "metadata": {},
   "source": [
    "Out of different file formats, Clustal format is used mostly for sequence alignment tasks.The CLUSTAL format includes a plain-text key to annotate conserved columns of the alignment, denoting conserved sequence (*), conservative mutations (:), semi-conservative mutations (.), and non-conservative mutations ( )"
   ]
  },
  {
   "cell_type": "markdown",
   "id": "e862f573",
   "metadata": {},
   "source": [
    "Different softwares have been developed for multiple sequence alignment purposes, such as: SAM, Opal, MUSCLE, etc. "
   ]
  },
  {
   "cell_type": "markdown",
   "id": "097c4ebb",
   "metadata": {},
   "source": [
    "#### Today, we are going to use MUSCLE for multiple sequence alignment"
   ]
  },
  {
   "cell_type": "markdown",
   "id": "9c890c7b",
   "metadata": {},
   "source": [
    "MUltiple Sequence Comparison by Log-Expectation (MUSCLE) is computer software for multiple sequence alignment of protein and nucleotide sequences."
   ]
  },
  {
   "cell_type": "markdown",
   "id": "3669e4ea",
   "metadata": {},
   "source": [
    "To download and install MUSCLE, please refer this youtube video from Bioinformatics Coach :\n",
    "https://youtu.be/XfqDorog8X8 "
   ]
  },
  {
   "cell_type": "markdown",
   "id": "75d50240",
   "metadata": {},
   "source": [
    "In order to perform multiple sequence alignment, we actually need sequences to align. Following a youtube tutorial from Simon Cockell, I have obtained 12 sequences of protein from Uniprot database https://www.uniprot.org/\n",
    "\n",
    "Bash Script has been created to extract those sequences and perform multiple sequence alignment using MUSCLE once it is installed."
   ]
  },
  {
   "cell_type": "markdown",
   "id": "429f0f76",
   "metadata": {},
   "source": [
    "Uniprot id of the sequence to be extracted are saved in a text file named uniprots_id.txt, which can be downloaded from my github repository as well.\n",
    "Incase, you are not familiar with GitHub, you can copy the id and save as uniprots_id.txt in your local machine.\n",
    "\n",
    "Ids:\n",
    "Q9BYF1\n",
    "G3QWX4\n",
    "Q5RFN1\n",
    "F7AH40\n",
    "A0A5F4W5D9\n",
    "Q56H28\n",
    "Q5EGZ1\n",
    "Q8R0I0\n",
    "F6WXR7\n",
    "G1KTF3\n",
    "E7F9E5\n",
    "A0A1L8HCX9"
   ]
  },
  {
   "cell_type": "markdown",
   "id": "3a6c6d0d",
   "metadata": {},
   "source": [
    "### Bash Script:"
   ]
  },
  {
   "cell_type": "code",
   "execution_count": null,
   "id": "3e8e8b3c",
   "metadata": {},
   "outputs": [],
   "source": []
  },
  {
   "cell_type": "code",
   "execution_count": 7,
   "id": "b1145008",
   "metadata": {
    "collapsed": true
   },
   "outputs": [
    {
     "name": "stdout",
     "output_type": "stream",
     "text": [
      "(msa) (msa) (msa) (msa) (msa) (msa) (msa) (msa) (o) Downloading Uniprot entry Q9BYF1\n",
      "--2022-10-29 15:55:10--  https://www.uniprot.org/uniprot/Q9BYF1.fasta\n",
      "Resolving www.uniprot.org (www.uniprot.org)... 193.62.192.81\n",
      "Connecting to www.uniprot.org (www.uniprot.org)|193.62.192.81|:443... connected.\n",
      "HTTP request sent, awaiting response... 301 Moved Permanently\n",
      "Location: https://rest.uniprot.org/uniprot/Q9BYF1.fasta [following]\n",
      "--2022-10-29 15:55:16--  https://rest.uniprot.org/uniprot/Q9BYF1.fasta\n",
      "Resolving rest.uniprot.org (rest.uniprot.org)... 193.62.192.81\n",
      "Connecting to rest.uniprot.org (rest.uniprot.org)|193.62.192.81|:443... connected.\n",
      "HTTP request sent, awaiting response... 301 Moved Permanently\n",
      "Location: https://rest.uniprot.org/uniprotkb/Q9BYF1.fasta [following]\n",
      "--2022-10-29 15:55:18--  https://rest.uniprot.org/uniprotkb/Q9BYF1.fasta\n",
      "Reusing existing connection to rest.uniprot.org:443.\n",
      "HTTP request sent, awaiting response... 200 OK\n",
      "Length: 915 [text/plain]\n",
      "Saving to: ‘Q9BYF1.fasta’\n",
      "\n",
      "Q9BYF1.fasta        100%[===================>]     915  --.-KB/s    in 0s      \n",
      "\n",
      "2022-10-29 15:55:18 (111 MB/s) - ‘Q9BYF1.fasta’ saved [915/915]\n",
      "\n",
      "(o) Downloaded Uniprot entry Q9BYF1\n",
      "(o) Downloading Uniprot entry G3QWX4\n",
      "--2022-10-29 15:55:18--  https://www.uniprot.org/uniprot/G3QWX4.fasta\n",
      "Resolving www.uniprot.org (www.uniprot.org)... 193.62.192.81\n",
      "Connecting to www.uniprot.org (www.uniprot.org)|193.62.192.81|:443... connected.\n",
      "HTTP request sent, awaiting response... 301 Moved Permanently\n",
      "Location: https://rest.uniprot.org/uniprot/G3QWX4.fasta [following]\n",
      "--2022-10-29 15:55:19--  https://rest.uniprot.org/uniprot/G3QWX4.fasta\n",
      "Resolving rest.uniprot.org (rest.uniprot.org)... 193.62.192.81\n",
      "Connecting to rest.uniprot.org (rest.uniprot.org)|193.62.192.81|:443... connected.\n",
      "HTTP request sent, awaiting response... 301 Moved Permanently\n",
      "Location: https://rest.uniprot.org/uniprotkb/G3QWX4.fasta [following]\n",
      "--2022-10-29 15:55:20--  https://rest.uniprot.org/uniprotkb/G3QWX4.fasta\n",
      "Reusing existing connection to rest.uniprot.org:443.\n",
      "HTTP request sent, awaiting response... 200 OK\n",
      "Length: 926 [text/plain]\n",
      "Saving to: ‘G3QWX4.fasta’\n",
      "\n",
      "G3QWX4.fasta        100%[===================>]     926  --.-KB/s    in 0s      \n",
      "\n",
      "2022-10-29 15:55:20 (61.6 MB/s) - ‘G3QWX4.fasta’ saved [926/926]\n",
      "\n",
      "(o) Downloaded Uniprot entry G3QWX4\n",
      "(o) Downloading Uniprot entry Q5RFN1\n",
      "--2022-10-29 15:55:20--  https://www.uniprot.org/uniprot/Q5RFN1.fasta\n",
      "Resolving www.uniprot.org (www.uniprot.org)... 193.62.192.81\n",
      "Connecting to www.uniprot.org (www.uniprot.org)|193.62.192.81|:443... connected.\n",
      "HTTP request sent, awaiting response... 301 Moved Permanently\n",
      "Location: https://rest.uniprot.org/uniprot/Q5RFN1.fasta [following]\n",
      "--2022-10-29 15:55:22--  https://rest.uniprot.org/uniprot/Q5RFN1.fasta\n",
      "Resolving rest.uniprot.org (rest.uniprot.org)... 193.62.192.81\n",
      "Connecting to rest.uniprot.org (rest.uniprot.org)|193.62.192.81|:443... connected.\n",
      "HTTP request sent, awaiting response... 301 Moved Permanently\n",
      "Location: https://rest.uniprot.org/uniprotkb/Q5RFN1.fasta [following]\n",
      "--2022-10-29 15:55:23--  https://rest.uniprot.org/uniprotkb/Q5RFN1.fasta\n",
      "Reusing existing connection to rest.uniprot.org:443.\n",
      "HTTP request sent, awaiting response... 200 OK\n",
      "Length: 915 [text/plain]\n",
      "Saving to: ‘Q5RFN1.fasta’\n",
      "\n",
      "Q5RFN1.fasta        100%[===================>]     915  --.-KB/s    in 0s      \n",
      "\n",
      "2022-10-29 15:55:23 (157 MB/s) - ‘Q5RFN1.fasta’ saved [915/915]\n",
      "\n",
      "(o) Downloaded Uniprot entry Q5RFN1\n",
      "(o) Downloading Uniprot entry F7AH40\n",
      "--2022-10-29 15:55:23--  https://www.uniprot.org/uniprot/F7AH40.fasta\n",
      "Resolving www.uniprot.org (www.uniprot.org)... 193.62.192.81\n",
      "Connecting to www.uniprot.org (www.uniprot.org)|193.62.192.81|:443... connected.\n",
      "HTTP request sent, awaiting response... 301 Moved Permanently\n",
      "Location: https://rest.uniprot.org/uniprot/F7AH40.fasta [following]\n",
      "--2022-10-29 15:55:24--  https://rest.uniprot.org/uniprot/F7AH40.fasta\n",
      "Resolving rest.uniprot.org (rest.uniprot.org)... 193.62.192.81\n",
      "Connecting to rest.uniprot.org (rest.uniprot.org)|193.62.192.81|:443... connected.\n",
      "HTTP request sent, awaiting response... 301 Moved Permanently\n",
      "Location: https://rest.uniprot.org/uniprotkb/F7AH40.fasta [following]\n",
      "--2022-10-29 15:55:25--  https://rest.uniprot.org/uniprotkb/F7AH40.fasta\n",
      "Reusing existing connection to rest.uniprot.org:443.\n",
      "HTTP request sent, awaiting response... 200 OK\n",
      "Length: 917 [text/plain]\n",
      "Saving to: ‘F7AH40.fasta’\n",
      "\n",
      "F7AH40.fasta        100%[===================>]     917  --.-KB/s    in 0s      \n",
      "\n",
      "2022-10-29 15:55:25 (139 MB/s) - ‘F7AH40.fasta’ saved [917/917]\n",
      "\n",
      "(o) Downloaded Uniprot entry F7AH40\n",
      "(o) Downloading Uniprot entry A0A5F4W5D9\n",
      "--2022-10-29 15:55:25--  https://www.uniprot.org/uniprot/A0A5F4W5D9.fasta\n",
      "Resolving www.uniprot.org (www.uniprot.org)... 193.62.192.81\n",
      "Connecting to www.uniprot.org (www.uniprot.org)|193.62.192.81|:443... connected.\n",
      "HTTP request sent, awaiting response... 301 Moved Permanently\n",
      "Location: https://rest.uniprot.org/uniprot/A0A5F4W5D9.fasta [following]\n",
      "--2022-10-29 15:55:27--  https://rest.uniprot.org/uniprot/A0A5F4W5D9.fasta\n",
      "Resolving rest.uniprot.org (rest.uniprot.org)... 193.62.192.81\n",
      "Connecting to rest.uniprot.org (rest.uniprot.org)|193.62.192.81|:443... connected.\n",
      "HTTP request sent, awaiting response... 301 Moved Permanently\n",
      "Location: https://rest.uniprot.org/uniprotkb/A0A5F4W5D9.fasta [following]\n",
      "--2022-10-29 15:55:28--  https://rest.uniprot.org/uniprotkb/A0A5F4W5D9.fasta\n",
      "Reusing existing connection to rest.uniprot.org:443.\n",
      "HTTP request sent, awaiting response... 200 OK\n",
      "Length: 971 [text/plain]\n",
      "Saving to: ‘A0A5F4W5D9.fasta’\n",
      "\n",
      "A0A5F4W5D9.fasta    100%[===================>]     971  --.-KB/s    in 0s      \n",
      "\n",
      "2022-10-29 15:55:28 (82.2 MB/s) - ‘A0A5F4W5D9.fasta’ saved [971/971]\n",
      "\n",
      "(o) Downloaded Uniprot entry A0A5F4W5D9\n",
      "(o) Downloading Uniprot entry Q56H28\n",
      "--2022-10-29 15:55:28--  https://www.uniprot.org/uniprot/Q56H28.fasta\n",
      "Resolving www.uniprot.org (www.uniprot.org)... 193.62.192.81\n",
      "Connecting to www.uniprot.org (www.uniprot.org)|193.62.192.81|:443... connected.\n",
      "HTTP request sent, awaiting response... 301 Moved Permanently\n",
      "Location: https://rest.uniprot.org/uniprot/Q56H28.fasta [following]\n",
      "--2022-10-29 15:55:29--  https://rest.uniprot.org/uniprot/Q56H28.fasta\n",
      "Resolving rest.uniprot.org (rest.uniprot.org)... 193.62.192.81\n",
      "Connecting to rest.uniprot.org (rest.uniprot.org)|193.62.192.81|:443... connected.\n",
      "HTTP request sent, awaiting response... 301 Moved Permanently\n",
      "Location: https://rest.uniprot.org/uniprotkb/Q56H28.fasta [following]\n",
      "--2022-10-29 15:55:30--  https://rest.uniprot.org/uniprotkb/Q56H28.fasta\n",
      "Reusing existing connection to rest.uniprot.org:443.\n",
      "HTTP request sent, awaiting response... 200 OK\n",
      "Length: 914 [text/plain]\n",
      "Saving to: ‘Q56H28.fasta’\n",
      "\n",
      "Q56H28.fasta        100%[===================>]     914  --.-KB/s    in 0s      \n",
      "\n",
      "2022-10-29 15:55:30 (66.0 MB/s) - ‘Q56H28.fasta’ saved [914/914]\n",
      "\n",
      "(o) Downloaded Uniprot entry Q56H28\n",
      "(o) Downloading Uniprot entry Q5EGZ1\n",
      "--2022-10-29 15:55:30--  https://www.uniprot.org/uniprot/Q5EGZ1.fasta\n",
      "Resolving www.uniprot.org (www.uniprot.org)... 193.62.192.81\n",
      "Connecting to www.uniprot.org (www.uniprot.org)|193.62.192.81|:443... connected.\n",
      "HTTP request sent, awaiting response... 301 Moved Permanently\n",
      "Location: https://rest.uniprot.org/uniprot/Q5EGZ1.fasta [following]\n",
      "--2022-10-29 15:55:31--  https://rest.uniprot.org/uniprot/Q5EGZ1.fasta\n",
      "Resolving rest.uniprot.org (rest.uniprot.org)... 193.62.192.81\n",
      "Connecting to rest.uniprot.org (rest.uniprot.org)|193.62.192.81|:443... connected.\n",
      "HTTP request sent, awaiting response... 301 Moved Permanently\n",
      "Location: https://rest.uniprot.org/uniprotkb/Q5EGZ1.fasta [following]\n",
      "--2022-10-29 15:55:33--  https://rest.uniprot.org/uniprotkb/Q5EGZ1.fasta\n",
      "Reusing existing connection to rest.uniprot.org:443.\n",
      "HTTP request sent, awaiting response... 200 OK\n",
      "Length: 919 [text/plain]\n",
      "Saving to: ‘Q5EGZ1.fasta’\n",
      "\n",
      "Q5EGZ1.fasta        100%[===================>]     919  --.-KB/s    in 0s      \n",
      "\n",
      "2022-10-29 15:55:33 (201 MB/s) - ‘Q5EGZ1.fasta’ saved [919/919]\n",
      "\n",
      "(o) Downloaded Uniprot entry Q5EGZ1\n",
      "(o) Downloading Uniprot entry Q8R0I0\n",
      "--2022-10-29 15:55:33--  https://www.uniprot.org/uniprot/Q8R0I0.fasta\n",
      "Resolving www.uniprot.org (www.uniprot.org)... 193.62.192.81\n"
     ]
    },
    {
     "name": "stdout",
     "output_type": "stream",
     "text": [
      "Connecting to www.uniprot.org (www.uniprot.org)|193.62.192.81|:443... connected.\n",
      "HTTP request sent, awaiting response... 301 Moved Permanently\n",
      "Location: https://rest.uniprot.org/uniprot/Q8R0I0.fasta [following]\n",
      "--2022-10-29 15:55:34--  https://rest.uniprot.org/uniprot/Q8R0I0.fasta\n",
      "Resolving rest.uniprot.org (rest.uniprot.org)... 193.62.192.81\n",
      "Connecting to rest.uniprot.org (rest.uniprot.org)|193.62.192.81|:443... connected.\n",
      "HTTP request sent, awaiting response... 301 Moved Permanently\n",
      "Location: https://rest.uniprot.org/uniprotkb/Q8R0I0.fasta [following]\n",
      "--2022-10-29 15:55:35--  https://rest.uniprot.org/uniprotkb/Q8R0I0.fasta\n",
      "Reusing existing connection to rest.uniprot.org:443.\n",
      "HTTP request sent, awaiting response... 200 OK\n",
      "Length: 916 [text/plain]\n",
      "Saving to: ‘Q8R0I0.fasta’\n",
      "\n",
      "Q8R0I0.fasta        100%[===================>]     916  --.-KB/s    in 0s      \n",
      "\n",
      "2022-10-29 15:55:36 (73.7 MB/s) - ‘Q8R0I0.fasta’ saved [916/916]\n",
      "\n",
      "(o) Downloaded Uniprot entry Q8R0I0\n",
      "(o) Downloading Uniprot entry F6WXR7\n",
      "--2022-10-29 15:55:36--  https://www.uniprot.org/uniprot/F6WXR7.fasta\n",
      "Resolving www.uniprot.org (www.uniprot.org)... 193.62.192.81\n",
      "Connecting to www.uniprot.org (www.uniprot.org)|193.62.192.81|:443... connected.\n",
      "HTTP request sent, awaiting response... 301 Moved Permanently\n",
      "Location: https://rest.uniprot.org/uniprot/F6WXR7.fasta [following]\n",
      "--2022-10-29 15:55:37--  https://rest.uniprot.org/uniprot/F6WXR7.fasta\n",
      "Resolving rest.uniprot.org (rest.uniprot.org)... 193.62.192.81\n",
      "Connecting to rest.uniprot.org (rest.uniprot.org)|193.62.192.81|:443... connected.\n",
      "HTTP request sent, awaiting response... 301 Moved Permanently\n",
      "Location: https://rest.uniprot.org/uniprotkb/F6WXR7.fasta [following]\n",
      "--2022-10-29 15:55:38--  https://rest.uniprot.org/uniprotkb/F6WXR7.fasta\n",
      "Reusing existing connection to rest.uniprot.org:443.\n",
      "HTTP request sent, awaiting response... 200 OK\n",
      "Length: 926 [text/plain]\n",
      "Saving to: ‘F6WXR7.fasta’\n",
      "\n",
      "F6WXR7.fasta        100%[===================>]     926  --.-KB/s    in 0s      \n",
      "\n",
      "2022-10-29 15:55:38 (58.8 MB/s) - ‘F6WXR7.fasta’ saved [926/926]\n",
      "\n",
      "(o) Downloaded Uniprot entry F6WXR7\n",
      "(o) Downloading Uniprot entry G1KTF3\n",
      "--2022-10-29 15:55:38--  https://www.uniprot.org/uniprot/G1KTF3.fasta\n",
      "Resolving www.uniprot.org (www.uniprot.org)... 193.62.192.81\n",
      "Connecting to www.uniprot.org (www.uniprot.org)|193.62.192.81|:443... connected.\n",
      "HTTP request sent, awaiting response... 301 Moved Permanently\n",
      "Location: https://rest.uniprot.org/uniprot/G1KTF3.fasta [following]\n",
      "--2022-10-29 15:55:39--  https://rest.uniprot.org/uniprot/G1KTF3.fasta\n",
      "Resolving rest.uniprot.org (rest.uniprot.org)... 193.62.192.81\n",
      "Connecting to rest.uniprot.org (rest.uniprot.org)|193.62.192.81|:443... connected.\n",
      "HTTP request sent, awaiting response... 301 Moved Permanently\n",
      "Location: https://rest.uniprot.org/uniprotkb/G1KTF3.fasta [following]\n",
      "--2022-10-29 15:55:41--  https://rest.uniprot.org/uniprotkb/G1KTF3.fasta\n",
      "Reusing existing connection to rest.uniprot.org:443.\n",
      "HTTP request sent, awaiting response... 200 OK\n",
      "Length: 932 [text/plain]\n",
      "Saving to: ‘G1KTF3.fasta’\n",
      "\n",
      "G1KTF3.fasta        100%[===================>]     932  --.-KB/s    in 0s      \n",
      "\n",
      "2022-10-29 15:55:41 (80.5 MB/s) - ‘G1KTF3.fasta’ saved [932/932]\n",
      "\n",
      "(o) Downloaded Uniprot entry G1KTF3\n",
      "(o) Downloading Uniprot entry E7F9E5\n",
      "--2022-10-29 15:55:41--  https://www.uniprot.org/uniprot/E7F9E5.fasta\n",
      "Resolving www.uniprot.org (www.uniprot.org)... 193.62.192.81\n",
      "Connecting to www.uniprot.org (www.uniprot.org)|193.62.192.81|:443... connected.\n",
      "HTTP request sent, awaiting response... 301 Moved Permanently\n",
      "Location: https://rest.uniprot.org/uniprot/E7F9E5.fasta [following]\n",
      "--2022-10-29 15:55:42--  https://rest.uniprot.org/uniprot/E7F9E5.fasta\n",
      "Resolving rest.uniprot.org (rest.uniprot.org)... 193.62.192.81\n",
      "Connecting to rest.uniprot.org (rest.uniprot.org)|193.62.192.81|:443... connected.\n",
      "HTTP request sent, awaiting response... 301 Moved Permanently\n",
      "Location: https://rest.uniprot.org/uniprotkb/E7F9E5.fasta [following]\n",
      "--2022-10-29 15:55:43--  https://rest.uniprot.org/uniprotkb/E7F9E5.fasta\n",
      "Reusing existing connection to rest.uniprot.org:443.\n",
      "HTTP request sent, awaiting response... 200 OK\n",
      "Length: 927 [text/plain]\n",
      "Saving to: ‘E7F9E5.fasta’\n",
      "\n",
      "E7F9E5.fasta        100%[===================>]     927  --.-KB/s    in 0s      \n",
      "\n",
      "2022-10-29 15:55:43 (141 MB/s) - ‘E7F9E5.fasta’ saved [927/927]\n",
      "\n",
      "(o) Downloaded Uniprot entry E7F9E5\n",
      "(o) Downloading Uniprot entry A0A1L8HCX9\n",
      "--2022-10-29 15:55:43--  https://www.uniprot.org/uniprot/A0A1L8HCX9.fasta\n",
      "Resolving www.uniprot.org (www.uniprot.org)... 193.62.192.81\n",
      "Connecting to www.uniprot.org (www.uniprot.org)|193.62.192.81|:443... connected.\n",
      "HTTP request sent, awaiting response... 301 Moved Permanently\n",
      "Location: https://rest.uniprot.org/uniprot/A0A1L8HCX9.fasta [following]\n",
      "--2022-10-29 15:55:44--  https://rest.uniprot.org/uniprot/A0A1L8HCX9.fasta\n",
      "Resolving rest.uniprot.org (rest.uniprot.org)... 193.62.192.81\n",
      "Connecting to rest.uniprot.org (rest.uniprot.org)|193.62.192.81|:443... connected.\n",
      "HTTP request sent, awaiting response... 301 Moved Permanently\n",
      "Location: https://rest.uniprot.org/uniprotkb/A0A1L8HCX9.fasta [following]\n",
      "--2022-10-29 15:55:45--  https://rest.uniprot.org/uniprotkb/A0A1L8HCX9.fasta\n",
      "Reusing existing connection to rest.uniprot.org:443.\n",
      "HTTP request sent, awaiting response... 200 OK\n",
      "Length: 999 [text/plain]\n",
      "Saving to: ‘A0A1L8HCX9.fasta’\n",
      "\n",
      "A0A1L8HCX9.fasta    100%[===================>]     999  --.-KB/s    in 0s      \n",
      "\n",
      "2022-10-29 15:55:46 (4.14 MB/s) - ‘A0A1L8HCX9.fasta’ saved [999/999]\n",
      "\n",
      "(o) Downloaded Uniprot entry A0A1L8HCX9\n",
      "(msa) (msa) (msa) (msa) \n",
      "muscle 5.1.linux64 []  3.8Gb RAM, 4 cores\n",
      "Built Feb 24 2022 03:16:15\n",
      "(C) Copyright 2004-2021 Robert C. Edgar.\n",
      "https://drive5.com\n",
      "\n",
      "Input: 12 seqs, avg length 816, max 876\n",
      "\n",
      "00:00 7.4Mb  CPU has 4 cores, running 4 threads\n",
      "00:05 263Mb   100.0% Calc posteriors\n",
      "00:06 263Mb   100.0% Consistency (1/2)\n",
      "00:06 263Mb   100.0% Consistency (2/2)\n",
      "00:06 263Mb   100.0% UPGMA5           \n",
      "00:06 263Mb   100.0% Refining\n",
      "(msa) "
     ]
    },
    {
     "ename": "",
     "evalue": "1",
     "output_type": "error",
     "traceback": []
    }
   ],
   "source": [
    "#!usr/bin/bash\n",
    "\n",
    "#activating the conda environment\n",
    "conda activate msa\n",
    "\n",
    "#getting input data as uniprot id\n",
    "VAR=$(cat uniprots_id.txt) \n",
    "URL=\"https://www.uniprot.org/uniprot/\"oo\n",
    "\n",
    "#loop to download sequence\n",
    "for i in ${VAR}\n",
    "    do\n",
    "        echo \"(o) Downloading Uniprot entry ${i}\"\n",
    "        wget ${URL}${i}.fasta\n",
    "        echo \"(o) Downloaded Uniprot entry ${i}\"\n",
    "        #making a single file with all fasta sequences:\n",
    "        cat ${i}.fasta >> muscle_input.fasta\n",
    "        rm ${i}.fasta\n",
    "    done\n",
    "    \n",
    "#using muscle to run sequence alignment and getting output in clw format\n",
    "muscle -align muscle_input.fasta -output muscle_output.clw\n",
    "\n"
   ]
  },
  {
   "cell_type": "markdown",
   "id": "4ede2b14",
   "metadata": {},
   "source": [
    "Alternatively, sequence alignment of combined file can also be done online with web based service via: https://www.ebi.ac.uk/Tools/msa/muscle/"
   ]
  },
  {
   "cell_type": "markdown",
   "id": "9acf036d",
   "metadata": {},
   "source": [
    "### Exploring aligned Sequence with Jalview"
   ]
  },
  {
   "cell_type": "markdown",
   "id": "394deb41",
   "metadata": {},
   "source": [
    "Sequences can be aligned in jalview itself, using a range of algorithms provided by JABA web services, including\n",
    "ClustalW1, Muscle2, MAFFT3, ProbCons,4 T-COFFEE5 and Clustal Omega.6 .Of these,Muscle is fast and probably best\n",
    "for smaller alignments"
   ]
  },
  {
   "cell_type": "markdown",
   "id": "bb45970f",
   "metadata": {},
   "source": [
    "Here, we have used the output of our bash script as input to jalview for some exploration of Jalview software.\n",
    "To input the file:\n",
    "step1: conda activa env (where env is the environment in which jalview was installed)\n",
    "step2: open the software by typing 'jalview' on your terminal\n",
    "step3: go to file -> Input alignment -> from file\n",
    "\n",
    "Now we have successfully added the aligned file in jalview."
   ]
  },
  {
   "cell_type": "code",
   "execution_count": null,
   "id": "9cb24d4f",
   "metadata": {},
   "outputs": [],
   "source": []
  },
  {
   "cell_type": "markdown",
   "id": "8c48f18a",
   "metadata": {},
   "source": [
    "### Coloring"
   ]
  },
  {
   "cell_type": "markdown",
   "id": "9ec8558c",
   "metadata": {},
   "source": [
    "Different options related to coloring can be accessed through 'color' menu out of which some are explained below:"
   ]
  },
  {
   "cell_type": "markdown",
   "id": "6e4193a7",
   "metadata": {},
   "source": [
    "#### Percentage Identity"
   ]
  },
  {
   "cell_type": "markdown",
   "id": "16203ad5",
   "metadata": {},
   "source": [
    "The Percentage Identity option colours the residues\n",
    "(boxes and/or text) according to the percentage of the\n",
    "residues in each column that agree with the consensus sequence. Only the residues that agree with the\n",
    "consensus residue for each column are coloured."
   ]
  },
  {
   "cell_type": "markdown",
   "id": "9a492886",
   "metadata": {},
   "source": [
    "#### Zappo"
   ]
  },
  {
   "cell_type": "markdown",
   "id": "9e0d463d",
   "metadata": {},
   "source": [
    "The residues are coloured according to their physicochemical properties. The physicochemical groupings are Aliphatic/hydrophobic, Aromatic, Positive,\n",
    "Negative, Hydrophillic, Conformationally special, and\n",
    "Cyst(e)ine"
   ]
  },
  {
   "cell_type": "markdown",
   "id": "c9d63232",
   "metadata": {},
   "source": [
    "#### Nucleotide"
   ]
  },
  {
   "cell_type": "markdown",
   "id": "8b5a284f",
   "metadata": {},
   "source": [
    "Residues are coloured with four colours corresponding\n",
    "to the four nucleotide bases. All non ACTG residues\n",
    "are uncoloured."
   ]
  },
  {
   "cell_type": "code",
   "execution_count": null,
   "id": "714869c3",
   "metadata": {},
   "outputs": [],
   "source": []
  },
  {
   "cell_type": "code",
   "execution_count": null,
   "id": "3487de53",
   "metadata": {},
   "outputs": [],
   "source": []
  },
  {
   "cell_type": "markdown",
   "id": "4c5a2ca8",
   "metadata": {},
   "source": [
    "#### Phylogenetic tree construction"
   ]
  },
  {
   "cell_type": "markdown",
   "id": "bb098570",
   "metadata": {},
   "source": [
    "Jalview can calculate and display trees, providing interactive tree-based grouping of sequences\n",
    "though a tree viewer. All trees are calculated via the Calculate ⇒ Tree or PCA . . . menu option."
   ]
  },
  {
   "cell_type": "code",
   "execution_count": null,
   "id": "8e296628",
   "metadata": {},
   "outputs": [],
   "source": []
  },
  {
   "cell_type": "markdown",
   "id": "dbeb8548",
   "metadata": {},
   "source": [
    "#### PCA"
   ]
  },
  {
   "cell_type": "markdown",
   "id": "1a77c331",
   "metadata": {},
   "source": [
    "Principal components analysis is a technique for examining the structure of complex data sets. The\n",
    "components are a set of dimensions formed from the measured values in the data set, and the principal component is the one with the greatest magnitude, or length. The sets of measurements that\n",
    "differ the most should lie at either end of this principal axis, and the other axes correspond to less\n",
    "extreme patterns of variation in the data set"
   ]
  },
  {
   "cell_type": "markdown",
   "id": "f07de7ef",
   "metadata": {},
   "source": [
    "PCA plots can be constructed from Jalview through Calculate -> Tree or PCA option after seclecting the sequences. The PCA plots are found to be of below average quality."
   ]
  },
  {
   "cell_type": "code",
   "execution_count": null,
   "id": "1a4cad06",
   "metadata": {},
   "outputs": [],
   "source": []
  }
 ],
 "metadata": {
  "kernelspec": {
   "display_name": "Bash",
   "language": "bash",
   "name": "bash"
  },
  "language_info": {
   "codemirror_mode": "shell",
   "file_extension": ".sh",
   "mimetype": "text/x-sh",
   "name": "bash"
  }
 },
 "nbformat": 4,
 "nbformat_minor": 5
}
